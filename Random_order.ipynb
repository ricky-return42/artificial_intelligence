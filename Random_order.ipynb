{
 "cells": [
  {
   "cell_type": "code",
   "execution_count": 1,
   "metadata": {
    "collapsed": true
   },
   "outputs": [],
   "source": [
    "import numpy as np\n",
    "import random\n",
    "\n",
    "def check_win(board):\n",
    "    global endgame\n",
    "    global win\n",
    "    global lose\n",
    "    for w in wincombos:\n",
    "        w = list(w)\n",
    "        if w.count('O') == 3:\n",
    "            endgame = True\n",
    "            lose = True\n",
    "        \n",
    "        if w.count('X') == 3:\n",
    "            endgame = True\n",
    "            win = True\n",
    "\n",
    "\n",
    "def chk_vac(x,y):\n",
    "    if board[x,y]=='':\n",
    "        return True\n",
    "    return False\n",
    "\n",
    "\n",
    "def make_computer_move(board):\n",
    "    \"start with random moves\"\n",
    "    vac = False\n",
    "    while not vac:\n",
    "        x = np.random.randint(0,3)\n",
    "        y = np.random.randint(0,3)\n",
    "        if chk_vac(x,y):\n",
    "            board[x,y] = 'O'\n",
    "            vac = True\n",
    "    return board\n",
    "\n",
    "\n",
    "def make_player_move(board):\n",
    "    \"requires user input\"\n",
    "    vac = False\n",
    "    while not vac:\n",
    "        x = input('Player row input:\\t')\n",
    "        y = input('Player column input:\\t')\n",
    "        if chk_vac(x,y):\n",
    "            board[x,y] = 'X'\n",
    "            #print (board)\n",
    "            vac = True\n",
    "        else:\n",
    "            print ('Sorry position occupied. Please choose again')\n",
    "    check_win(board)\n",
    "    return board\n",
    "\n",
    "\n",
    "def play_game():\n",
    "    \"Step 1\"\n",
    "    global board\n",
    "    global wincombos\n",
    "    global endgame\n",
    "    global win\n",
    "    global lose\n",
    "    endgame = False\n",
    "    win = False\n",
    "    lose = False\n",
    "    board =  board = np.chararray((3,3))\n",
    "    wincombos = [board[0], board[1], board[2], board[:,0], board[:,1], board[:,2], board.diagonal(), np.fliplr(board).diagonal()]\n",
    "    \"Step 2 needs input!\"\n",
    "    \"Step 3 & 4\"\n",
    "    empty_space = 9\n",
    "    while empty_space>0:\n",
    "        print (board)\n",
    "        board = make_player_move(board)\n",
    "        check_win(board)\n",
    "        empty_space -= 1\n",
    "        if endgame or empty_space==0:\n",
    "            break\n",
    "        board = make_computer_move(board)\n",
    "        check_win(board)\n",
    "        empty_space -= 1        \n",
    "        if endgame:\n",
    "            break \n",
    "        \n",
    "    if win:\n",
    "        print (board)\n",
    "        print(\"You win\")\n",
    "    elif lose:\n",
    "        print (board)\n",
    "        print(\"Computer wins\")\n",
    "    elif endgame:\n",
    "        print (board)\n",
    "        print(\"Tie game\")"
   ]
  },
  {
   "cell_type": "code",
   "execution_count": null,
   "metadata": {
    "collapsed": true
   },
   "outputs": [],
   "source": [
    "# decide who go first\n",
    "# Go first player = player 1 other player 2\n",
    "# Logic: create board and checkwin condition => decide who is player 1 and who is player 2 \n",
    "# => play game starting with player 1 and check win => If win condition met stop game, if not \n",
    "# repeat till winner emerge or board is full"
   ]
  },
  {
   "cell_type": "code",
   "execution_count": 5,
   "metadata": {
    "collapsed": false
   },
   "outputs": [],
   "source": [
    "def assign_players():\n",
    "    valid_players = False\n",
    "    while not valid_players:\n",
    "        human_players = input('Would you like a 1 player game or 2 players game?')\n",
    "        if human_players == 1:\n",
    "            print 'OK'\n",
    "            return 'H','C'\n",
    "        elif human_players ==2:\n",
    "            print 'OK'\n",
    "            return 'H','H'\n",
    "        else:\n",
    "            print 'Invalid input. Please choose 1 or 2'\n",
    "\n",
    "    \n",
    "\n",
    "def decide_order(p1,p2):\n",
    "    x = np.random.randint(0,2)\n",
    "    if x==0:\n",
    "        return p1,p2\n",
    "    return p2,p1"
   ]
  },
  {
   "cell_type": "code",
   "execution_count": 14,
   "metadata": {
    "collapsed": false
   },
   "outputs": [
    {
     "name": "stdout",
     "output_type": "stream",
     "text": [
      "Would you like a 1 player game or 2 players game?1\n",
      "OK\n"
     ]
    },
    {
     "data": {
      "text/plain": [
       "('C', 'H')"
      ]
     },
     "execution_count": 14,
     "metadata": {},
     "output_type": "execute_result"
    }
   ],
   "source": [
    "p1,p2 = assign_players()\n",
    "decide_order(p1,p2)"
   ]
  },
  {
   "cell_type": "code",
   "execution_count": null,
   "metadata": {
    "collapsed": true
   },
   "outputs": [],
   "source": [
    "def make_computer_move(board):\n",
    "    \"start with random moves\"\n",
    "    vac = False\n",
    "    while not vac:\n",
    "        x = np.random.randint(0,3)\n",
    "        y = np.random.randint(0,3)\n",
    "        if chk_vac(x,y):\n",
    "            board[x,y] = 'O'\n",
    "            vac = True\n",
    "    return board\n",
    "\n",
    "\n",
    "def make_player_move(board):\n",
    "    \"requires user input\"\n",
    "    vac = False\n",
    "    while not vac:\n",
    "        x = input('Player row input:\\t')\n",
    "        y = input('Player column input:\\t')\n",
    "        if chk_vac(x,y):\n",
    "            board[x,y] = 'X'\n",
    "            #print (board)\n",
    "            vac = True\n",
    "        else:\n",
    "            print ('Sorry position occupied. Please choose again')\n",
    "    check_win(board)\n",
    "    return board\n",
    "\n",
    "def make_move(board, player):\n",
    "    vac = False\n",
    "    while not vac:\n",
    "        if player == 'H':\n",
    "            x = input('Player row input:\\t')\n",
    "            y = input('Player column input:\\t')\n",
    "        else:\n",
    "            x = np.random.randint(0,3)\n",
    "            y = np.random.randint(0,3)\n",
    "        "
   ]
  }
 ],
 "metadata": {
  "kernelspec": {
   "display_name": "Python 2",
   "language": "python",
   "name": "python2"
  },
  "language_info": {
   "codemirror_mode": {
    "name": "ipython",
    "version": 2
   },
   "file_extension": ".py",
   "mimetype": "text/x-python",
   "name": "python",
   "nbconvert_exporter": "python",
   "pygments_lexer": "ipython2",
   "version": "2.7.12"
  }
 },
 "nbformat": 4,
 "nbformat_minor": 0
}
