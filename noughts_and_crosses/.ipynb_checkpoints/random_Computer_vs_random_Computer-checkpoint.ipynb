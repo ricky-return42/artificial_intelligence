{
 "cells": [
  {
   "cell_type": "code",
   "execution_count": 7,
   "metadata": {
    "collapsed": false
   },
   "outputs": [],
   "source": [
    "import numpy as np\n",
    "import random\n",
    "\n",
    "def check_win(board):\n",
    "    global endgame\n",
    "    global win\n",
    "    global lose\n",
    "    for w in wincombos:\n",
    "        w = list(w)\n",
    "        if w.count('O') == 3:\n",
    "            endgame = True\n",
    "            lose = True\n",
    "        \n",
    "        if w.count('X') == 3:\n",
    "            endgame = True\n",
    "            win = True\n",
    "\n",
    "\n",
    "def chk_vac(x,y):\n",
    "    if board[x,y]=='':\n",
    "        return True\n",
    "    return False\n",
    "\n",
    "\n",
    "def make_move(board, marker):\n",
    "    vac = False\n",
    "    while not vac:\n",
    "        x = np.random.randint(0,3)\n",
    "        y = np.random.randint(0,3)\n",
    "        if chk_vac(x,y):\n",
    "            board[x,y] = marker\n",
    "            vac = True\n",
    "    check_win(board)\n",
    "    return board\n",
    "\n",
    "def play_game():\n",
    "    \"Step 1\"\n",
    "    global board\n",
    "    global wincombos\n",
    "    global endgame\n",
    "    global win\n",
    "    global lose\n",
    "    p1_marker = 'X'\n",
    "    p2_marker = 'O'\n",
    "    endgame = False\n",
    "    win = False\n",
    "    lose = False   \n",
    "    board =  board = np.chararray((3,3))\n",
    "    wincombos = [board[0], board[1], board[2], board[:,0], board[:,1], board[:,2], board.diagonal(), np.fliplr(board).diagonal()]\n",
    "    empty_space = 9\n",
    "    while empty_space>0:\n",
    "        print (board)\n",
    "        board = make_move(board,p1_marker)\n",
    "        check_win(board)\n",
    "        empty_space -= 1\n",
    "        if endgame or empty_space==0:\n",
    "            break\n",
    "        print (board)\n",
    "        board = make_move(board,p2_marker)\n",
    "        check_win(board)\n",
    "        empty_space -= 1        \n",
    "        if endgame:\n",
    "            break \n",
    "    if win:\n",
    "        print (board)\n",
    "        print 'X wins'\n",
    "    elif lose:\n",
    "        print (board)\n",
    "        print 'O wins'\n",
    "    else:\n",
    "        print(board)\n",
    "        print 'tie'"
   ]
  },
  {
   "cell_type": "code",
   "execution_count": 11,
   "metadata": {
    "collapsed": false
   },
   "outputs": [
    {
     "name": "stdout",
     "output_type": "stream",
     "text": [
      "[['' '' '']\n",
      " ['' '' '']\n",
      " ['' '' '']]\n",
      "[['' '' '']\n",
      " ['' '' '']\n",
      " ['X' '' '']]\n",
      "[['' '' '']\n",
      " ['' '' 'O']\n",
      " ['X' '' '']]\n",
      "[['' '' '']\n",
      " ['' 'X' 'O']\n",
      " ['X' '' '']]\n",
      "[['' '' 'O']\n",
      " ['' 'X' 'O']\n",
      " ['X' '' '']]\n",
      "[['' '' 'O']\n",
      " ['X' 'X' 'O']\n",
      " ['X' '' '']]\n",
      "[['O' '' 'O']\n",
      " ['X' 'X' 'O']\n",
      " ['X' '' '']]\n",
      "[['O' '' 'O']\n",
      " ['X' 'X' 'O']\n",
      " ['X' '' 'X']]\n",
      "[['O' 'O' 'O']\n",
      " ['X' 'X' 'O']\n",
      " ['X' '' 'X']]\n",
      "O wins\n"
     ]
    }
   ],
   "source": [
    "play_game()"
   ]
  },
  {
   "cell_type": "markdown",
   "metadata": {},
   "source": [
    "#### AI idea\n",
    "\n",
    "By looking at certain board positions, computer calculates winning probabilities. Repeat computer vs computer game to collect data for different board positions. Should be a classification problem with predict proba. rank the \n",
    "\n",
    "\n",
    "#### Game Logic\n",
    "\n",
    "1. Initiate empty board\n",
    "2. random computer 1 make move\n",
    "3. log board position\n",
    "4. random computer 2 make move \n",
    "5. log board position\n",
    "6. repeat 2-5 until winner emerges or board full\n",
    "\n",
    "Things to think about:\n",
    "- board positions can be flattern in order to be stored. as a 1D array\n",
    "- No need to log empty board!?\n",
    "\n",
    "#### Data structure\n",
    "\n",
    "- labels = win (1) or lose (0)\n",
    "- features = board positions"
   ]
  },
  {
   "cell_type": "code",
   "execution_count": null,
   "metadata": {
    "collapsed": true
   },
   "outputs": [],
   "source": []
  }
 ],
 "metadata": {
  "kernelspec": {
   "display_name": "Python 2",
   "language": "python",
   "name": "python2"
  },
  "language_info": {
   "codemirror_mode": {
    "name": "ipython",
    "version": 2
   },
   "file_extension": ".py",
   "mimetype": "text/x-python",
   "name": "python",
   "nbconvert_exporter": "python",
   "pygments_lexer": "ipython2",
   "version": "2.7.12"
  }
 },
 "nbformat": 4,
 "nbformat_minor": 0
}
